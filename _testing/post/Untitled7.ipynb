{
 "cells": [
  {
   "cell_type": "code",
   "execution_count": 14,
   "metadata": {},
   "outputs": [],
   "source": [
    "import os\n",
    "import caas\n",
    "import numpy as np\n",
    "import json\n",
    "import re"
   ]
  },
  {
   "cell_type": "code",
   "execution_count": 23,
   "metadata": {},
   "outputs": [],
   "source": [
    "navAttStr = '{\"dataType\":{\"version\":\"1.0\",\"name\":\"browserNavigationAttributes\",\"comment\":\"all but geolocation\"},\"data\":{\"appCodeName\":\"Mozilla\",\"appName\":\"Netscape\",\"appVersion\":\"5.0 (Linux; Android 6.0; thl T6CBuild/MRA58K; wv) AppleWebKit/537.36 (KHTML, like Gecko) Version/4.0 Chrome/44.0.2403.119 Mobile Safari/537.36\",\"cookiesEnabled\":true,\"language\":\"en-US\",\"onLine\":true,\"platform\":\"Linux armv7l\",\"product\":\"Gecko\",\"userAgent\":\"Mozilla/5.0 (Linux; Android 6.0; thl T6C Build/MRA58K; wv) AppleWebKit/537.36 (KHTML, like Gecko) Version/4.0 Chrome/44.0.2403.119 Mobile Safari/537.36\",\"vendor\":\"Google Inc.\"}}'\n",
    "nav_att = json.loads(navAttStr)\n",
    "try:\n",
    "    nav_att = json.loads(nav_att)\n",
    "except:\n",
    "    pass"
   ]
  },
  {
   "cell_type": "code",
   "execution_count": 24,
   "metadata": {},
   "outputs": [
    {
     "name": "stdout",
     "output_type": "stream",
     "text": [
      "5.0 (Linux; Android 6.0; thl T6CBuild/MRA58K; wv) AppleWebKit/537.36 (KHTML, like Gecko) Version/4.0 Chrome/44.0.2403.119 Mobile Safari/537.36\n"
     ]
    }
   ],
   "source": [
    "app_version = nav_att['data']['appVersion']\n",
    "print(app_version)"
   ]
  },
  {
   "cell_type": "code",
   "execution_count": 25,
   "metadata": {},
   "outputs": [
    {
     "name": "stdout",
     "output_type": "stream",
     "text": [
      "5.0 (Linux; Android 6.0; thl T6C\n"
     ]
    }
   ],
   "source": [
    "lhs = re.split(\"Build\",app_version)[0]\n",
    "print(lhs)"
   ]
  },
  {
   "cell_type": "code",
   "execution_count": 28,
   "metadata": {},
   "outputs": [
    {
     "name": "stdout",
     "output_type": "stream",
     "text": [
      "thl T6C\n"
     ]
    }
   ],
   "source": [
    "device = re.split(\";\", lhs)[-1].strip()\n",
    "print(device)"
   ]
  },
  {
   "cell_type": "code",
   "execution_count": null,
   "metadata": {},
   "outputs": [],
   "source": []
  }
 ],
 "metadata": {
  "kernelspec": {
   "display_name": "Python 3",
   "language": "python",
   "name": "python3"
  },
  "language_info": {
   "codemirror_mode": {
    "name": "ipython",
    "version": 3
   },
   "file_extension": ".py",
   "mimetype": "text/x-python",
   "name": "python",
   "nbconvert_exporter": "python",
   "pygments_lexer": "ipython3",
   "version": "3.6.4"
  }
 },
 "nbformat": 4,
 "nbformat_minor": 2
}
