{
 "cells": [
  {
   "cell_type": "code",
   "execution_count": 34,
   "metadata": {},
   "outputs": [],
   "source": [
    "import pathlib\n",
    "import os\n",
    "import json"
   ]
  },
  {
   "cell_type": "code",
   "execution_count": 35,
   "metadata": {},
   "outputs": [
    {
     "data": {
      "text/plain": [
       "<module 'caas.proc' from '/Users/michaelbach/Documents/GitHub/app1/_testing/post/caas/proc.py'>"
      ]
     },
     "execution_count": 35,
     "metadata": {},
     "output_type": "execute_result"
    }
   ],
   "source": [
    "import importlib\n",
    "import caas\n",
    "importlib.reload(caas)\n",
    "import caas.lib\n",
    "importlib.reload(caas.lib)\n",
    "import caas.proc\n",
    "importlib.reload(caas.proc)"
   ]
  },
  {
   "cell_type": "markdown",
   "metadata": {},
   "source": [
    "## Requirement\n",
    "* root\n",
    "* data/\n",
    "* image root\n",
    "* data/2018-11-24T15-55-27.169019_0aefb74e-7889-4179-a4dc-5cc0293b99ca\n",
    "* path to incomming image\n",
    "* data/2018-11-24T15-55-27.169019_0aefb74e-7889-4179-a4dc-5cc0293b99ca/in\n",
    "* path and filenamte to incoming image\n",
    "* data/2018-11-24T15-55-27.169019_0aefb74e-7889-4179-a4dc-5cc0293b99ca/in/2018-11-24T15-55-27.169019_0aefb74e-7889-4179-a4dc-5cc0293b99ca.jpg"
   ]
  },
  {
   "cell_type": "markdown",
   "metadata": {},
   "source": [
    "## Green field"
   ]
  },
  {
   "cell_type": "code",
   "execution_count": 36,
   "metadata": {},
   "outputs": [
    {
     "name": "stdout",
     "output_type": "stream",
     "text": [
      "files and folders: \n",
      "uuid: 6807c887-9d8c-4511-91ad-ef63282447fb\n",
      "timestamp: 2018-11-28T01-42-15.131594\n",
      "incoming root path: data/2018-11-28T01-42-15.131594_6807c887-9d8c-4511-91ad-ef63282447fb\n",
      "path_to_incoming_image: data/2018-11-28T01-42-15.131594_6807c887-9d8c-4511-91ad-ef63282447fb/in\n",
      "path_and_filename_to_incoming_image: data/2018-11-28T01-42-15.131594_6807c887-9d8c-4511-91ad-ef63282447fb/in/2018-11-28T01-42-15.131594_6807c887-9d8c-4511-91ad-ef63282447fb.jpg\n",
      "path_working: : data/2018-11-28T01-42-15.131594_6807c887-9d8c-4511-91ad-ef63282447fb/2018-11-28T01-42-15.131594\n",
      "\n"
     ]
    }
   ],
   "source": [
    "pfn_manager_green = caas.lib.FolderManager()\n",
    "pfn_manager_green.create_folders()\n",
    "print(\"files and folders: \\n{}\".format(pfn_manager_green))"
   ]
  },
  {
   "cell_type": "markdown",
   "metadata": {},
   "source": [
    "## Brownfield"
   ]
  },
  {
   "cell_type": "code",
   "execution_count": 37,
   "metadata": {},
   "outputs": [
    {
     "name": "stdout",
     "output_type": "stream",
     "text": [
      "assumed root path: data/2018-11-28T01-42-15.131594_6807c887-9d8c-4511-91ad-ef63282447fb\n"
     ]
    }
   ],
   "source": [
    "print(\"assumed root path: {}\".format(pfn_manager_green.root_path_to_incoming_image))"
   ]
  },
  {
   "cell_type": "code",
   "execution_count": 38,
   "metadata": {},
   "outputs": [
    {
     "name": "stdout",
     "output_type": "stream",
     "text": [
      "files and folders: \n",
      "uuid: 075a7e0b-3a0e-45c6-ba10-b865809aabf7\n",
      "timestamp: 2018-11-28T01-42-18.798204\n",
      "incoming root path: data/2018-11-28T01-42-15.131594_6807c887-9d8c-4511-91ad-ef63282447fb\n",
      "path_to_incoming_image: data/2018-11-28T01-42-15.131594_6807c887-9d8c-4511-91ad-ef63282447fb/in\n",
      "path_and_filename_to_incoming_image: data/2018-11-28T01-42-15.131594_6807c887-9d8c-4511-91ad-ef63282447fb/in/2018-11-28T01-42-15.131594_6807c887-9d8c-4511-91ad-ef63282447fb.jpg\n",
      "path_working: : data/2018-11-28T01-42-15.131594_6807c887-9d8c-4511-91ad-ef63282447fb/2018-11-28T01-42-18.798204\n",
      "\n"
     ]
    }
   ],
   "source": [
    "pfn_manager = caas.lib.FolderManager()\n",
    "pfn_manager.create_folders(pfn_manager_green.root_path_to_incoming_image)\n",
    "print(\"files and folders: \\n{}\".format(pfn_manager))"
   ]
  },
  {
   "cell_type": "code",
   "execution_count": 40,
   "metadata": {},
   "outputs": [
    {
     "name": "stdout",
     "output_type": "stream",
     "text": [
      "files and folders: \n",
      "uuid: d9b1a6ae-46fa-46b3-a34b-9fd12449ec95\n",
      "timestamp: 2018-11-28T01-49-17.059138\n",
      "incoming root path: data/2018-11-28T01-43-07.701699_a6469af2-92bf-4087-a54f-9c6eda2443a1\n",
      "path_to_incoming_image: data/2018-11-28T01-43-07.701699_a6469af2-92bf-4087-a54f-9c6eda2443a1/in\n",
      "path_and_filename_to_incoming_image: data/2018-11-28T01-43-07.701699_a6469af2-92bf-4087-a54f-9c6eda2443a1/in/2018-11-28T01-43-07.701699_a6469af2-92bf-4087-a54f-9c6eda2443a1.jpg\n",
      "path_working: : data/2018-11-28T01-43-07.701699_a6469af2-92bf-4087-a54f-9c6eda2443a1/2018-11-28T01-49-17.059138\n",
      "\n",
      "Load image : data/2018-11-28T01-43-07.701699_a6469af2-92bf-4087-a54f-9c6eda2443a1/in/2018-11-28T01-43-07.701699_a6469af2-92bf-4087-a54f-9c6eda2443a1.jpg\n",
      "[[ 82  87  85]\n",
      " [ 57  64  67]\n",
      " [ 37  47  47]\n",
      " ...\n",
      " [174 178 176]\n",
      " [175 177 177]\n",
      " [170 175 174]]\n",
      "Cluster: 2 , Silhouette: 0.7861833664386082, bgr: [164.56686523 169.91087118 168.5824274 ]\n",
      "Cluster: 3 , Silhouette: 0.728297491065435, bgr: [164.56686523 169.91087118 168.5824274 ]\n",
      "Cluster: 4 , Silhouette: 0.6580444828838966, bgr: [164.56686523 169.91087118 168.5824274 ]\n",
      "Cluster: 5 , Silhouette: 0.6186258969224707, bgr: [164.56686523 169.91087118 168.5824274 ]\n",
      "Cluster: 6 , Silhouette: 0.5189680024242289, bgr: [164.56686523 169.91087118 168.5824274 ]\n",
      "Cluster: 7 , Silhouette: 0.5280818528907644, bgr: [164.56686523 169.91087118 168.5824274 ]\n",
      "iterating done, winning cluster-values:\n",
      "Silhouette: 0.7861833664386082, bgr: [164.56686523 169.91087118 168.5824274 ]\n",
      "rgb_from_image_v2 result:\n",
      "{\"thumbnail\": \"data/2018-11-28T01-43-07.701699_a6469af2-92bf-4087-a54f-9c6eda2443a1/2018-11-28T01-49-17.059138/thumbnail.png\", \"processing\": \"data/2018-11-28T01-43-07.701699_a6469af2-92bf-4087-a54f-9c6eda2443a1/2018-11-28T01-49-17.059138/proc_rgb.png\", \"rgb\": [168.58242740134028, 169.9108711839166, 164.5668652271035]}\n",
      "processing ral_standard\n",
      "color_from_rgb_result:\n",
      "{\"version\": {\"number\": \"1.0.0\", \"description\": \"spatial.kdtree, three best candidates\"}, \"results\": {\"schemata\": {\"ral_standard\": {\"p1\": {\"rgb\": [165.0, 165.0, 165.0], \"name\": \"9006 Wei\\u00dfaluminium\", \"diff\": [-3.582427401340283, -4.910871183916612, 0.43313477289649427], \"rgb_image\": [168.58242740134028, 169.9108711839166, 164.5668652271035]}, \"p2\": {\"rgb\": [157.0, 161.0, 170.0], \"name\": \"7040 Fenstergrau\", \"diff\": [-11.582427401340283, -8.910871183916612, 5.433134772896494], \"rgb_image\": [168.58242740134028, 169.9108711839166, 164.5668652271035]}, \"p3\": {\"rgb\": [156.0, 156.0, 156.0], \"name\": \"9022 Perlhellgrau\", \"diff\": [-12.582427401340283, -13.910871183916612, -8.566865227103506], \"rgb_image\": [168.58242740134028, 169.9108711839166, 164.5668652271035]}}}, \"rgbFromImage\": [168.58242740134028, 169.9108711839166, 164.5668652271035], \"best\": {\"name\": \"9006 Wei\\u00dfaluminium\", \"rgb\": [165.0, 165.0, 165.0], \"diff\": [-3.582427401340283, -4.910871183916612, 0.43313477289649427], \"scheme\": \"ral_standard\"}}}\n",
      "processing result:\n",
      "{\"version\": {\"number\": \"1.0.0\", \"description\": \"first version of result consolidation\"}, \"results\": {\"workingPath\": \"data/2018-11-28T01-43-07.701699_a6469af2-92bf-4087-a54f-9c6eda2443a1/2018-11-28T01-49-17.059138\", \"color\": {\"version\": {\"number\": \"1.0.0\", \"description\": \"spatial.kdtree, three best candidates\"}, \"results\": {\"schemata\": {\"ral_standard\": {\"p1\": {\"rgb\": [165.0, 165.0, 165.0], \"name\": \"9006 Wei\\u00dfaluminium\", \"diff\": [-3.582427401340283, -4.910871183916612, 0.43313477289649427], \"rgb_image\": [168.58242740134028, 169.9108711839166, 164.5668652271035]}, \"p2\": {\"rgb\": [157.0, 161.0, 170.0], \"name\": \"7040 Fenstergrau\", \"diff\": [-11.582427401340283, -8.910871183916612, 5.433134772896494], \"rgb_image\": [168.58242740134028, 169.9108711839166, 164.5668652271035]}, \"p3\": {\"rgb\": [156.0, 156.0, 156.0], \"name\": \"9022 Perlhellgrau\", \"diff\": [-12.582427401340283, -13.910871183916612, -8.566865227103506], \"rgb_image\": [168.58242740134028, 169.9108711839166, 164.5668652271035]}}}, \"rgbFromImage\": [168.58242740134028, 169.9108711839166, 164.5668652271035], \"best\": {\"name\": \"9006 Wei\\u00dfaluminium\", \"rgb\": [165.0, 165.0, 165.0], \"diff\": [-3.582427401340283, -4.910871183916612, 0.43313477289649427], \"scheme\": \"ral_standard\"}}}}}\n"
     ]
    }
   ],
   "source": [
    "pfn_manager = caas.lib.FolderManager()\n",
    "pfn_manager.create_folders(str(pathlib.Path(\"data\",\"2018-11-28T01-43-07.701699_a6469af2-92bf-4087-a54f-9c6eda2443a1\")))\n",
    "print(\"files and folders: \\n{}\".format(pfn_manager))\n",
    "\n",
    "resultData = caas.proc.process_main(\n",
    "            pfn_manager.path_working,\n",
    "            pfn_manager.path_and_filename_to_incoming_image)"
   ]
  },
  {
   "cell_type": "code",
   "execution_count": null,
   "metadata": {},
   "outputs": [],
   "source": []
  }
 ],
 "metadata": {
  "kernelspec": {
   "display_name": "Python 3",
   "language": "python",
   "name": "python3"
  },
  "language_info": {
   "codemirror_mode": {
    "name": "ipython",
    "version": 3
   },
   "file_extension": ".py",
   "mimetype": "text/x-python",
   "name": "python",
   "nbconvert_exporter": "python",
   "pygments_lexer": "ipython3",
   "version": "3.6.4"
  }
 },
 "nbformat": 4,
 "nbformat_minor": 2
}
