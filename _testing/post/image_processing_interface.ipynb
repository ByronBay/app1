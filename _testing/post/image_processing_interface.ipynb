{
 "cells": [
  {
   "cell_type": "code",
   "execution_count": 10,
   "metadata": {},
   "outputs": [],
   "source": [
    "import pathlib\n",
    "import os\n",
    "import json"
   ]
  },
  {
   "cell_type": "code",
   "execution_count": 14,
   "metadata": {},
   "outputs": [
    {
     "data": {
      "text/plain": [
       "<module 'caas.proc' from '/Users/michaelbach/Documents/GitHub/app1/_testing/post/caas/proc.py'>"
      ]
     },
     "execution_count": 14,
     "metadata": {},
     "output_type": "execute_result"
    }
   ],
   "source": [
    "import importlib\n",
    "import caas\n",
    "importlib.reload(caas)\n",
    "import caas.lib\n",
    "importlib.reload(caas.lib)\n",
    "import caas.proc\n",
    "importlib.reload(caas.proc)"
   ]
  },
  {
   "cell_type": "markdown",
   "metadata": {},
   "source": [
    "## Requirement\n",
    "* root\n",
    "* data/\n",
    "* image root\n",
    "* data/2018-11-24T15-55-27.169019_0aefb74e-7889-4179-a4dc-5cc0293b99ca\n",
    "* path to incomming image\n",
    "* data/2018-11-24T15-55-27.169019_0aefb74e-7889-4179-a4dc-5cc0293b99ca/in\n",
    "* path and filenamte to incoming image\n",
    "* data/2018-11-24T15-55-27.169019_0aefb74e-7889-4179-a4dc-5cc0293b99ca/in/2018-11-24T15-55-27.169019_0aefb74e-7889-4179-a4dc-5cc0293b99ca.jpg"
   ]
  },
  {
   "cell_type": "code",
   "execution_count": 15,
   "metadata": {},
   "outputs": [
    {
     "name": "stdout",
     "output_type": "stream",
     "text": [
      "files and folders: \n",
      "uuid: 7b2b399d-8893-4647-b38d-9418ace9f359\n",
      "timestamp: 2018-11-24T16-56-13.171234\n",
      "incoming root path: data/2018-11-24T16-56-13.171234_7b2b399d-8893-4647-b38d-9418ace9f359\n",
      "path_to_incoming_image: data/2018-11-24T16-56-13.171234_7b2b399d-8893-4647-b38d-9418ace9f359/2018-11-24T16-56-13.171234_7b2b399d-8893-4647-b38d-9418ace9f359/in\n",
      "path_and_filename_to_incoming_image: data/2018-11-24T16-56-13.171234_7b2b399d-8893-4647-b38d-9418ace9f359/2018-11-24T16-56-13.171234_7b2b399d-8893-4647-b38d-9418ace9f359/in/2018-11-24T16-56-13.171234_7b2b399d-8893-4647-b38d-9418ace9f359.jpg\n",
      "\n"
     ]
    }
   ],
   "source": [
    "pfn_manager = caas.lib.WorkingFolder()\n",
    "print(\"files and folders: \\n{}\".format(pfn_manager))"
   ]
  },
  {
   "cell_type": "code",
   "execution_count": null,
   "metadata": {},
   "outputs": [],
   "source": []
  }
 ],
 "metadata": {
  "kernelspec": {
   "display_name": "Python 3",
   "language": "python",
   "name": "python3"
  },
  "language_info": {
   "codemirror_mode": {
    "name": "ipython",
    "version": 3
   },
   "file_extension": ".py",
   "mimetype": "text/x-python",
   "name": "python",
   "nbconvert_exporter": "python",
   "pygments_lexer": "ipython3",
   "version": "3.6.4"
  }
 },
 "nbformat": 4,
 "nbformat_minor": 2
}
