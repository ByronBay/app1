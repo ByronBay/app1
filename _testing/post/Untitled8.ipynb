{
 "cells": [
  {
   "cell_type": "code",
   "execution_count": 2,
   "metadata": {},
   "outputs": [],
   "source": [
    "import os\n",
    "import json\n",
    "from PIL import Image"
   ]
  },
  {
   "cell_type": "code",
   "execution_count": 3,
   "metadata": {},
   "outputs": [],
   "source": [
    "imgPfn = '/Users/michaelbach/Documents/GitHub/app1/_testing/post/data/2018-10-28T00-06-25.022070_4fe4e6c7-79dd-48f6-ba5a-721ba0af2021/2018-10-28T00-06-25.022070_4fe4e6c7-79dd-48f6-ba5a-721ba0af2021.jpg'\n",
    "img = Image.open(imgPfn)"
   ]
  },
  {
   "cell_type": "code",
   "execution_count": 4,
   "metadata": {},
   "outputs": [
    {
     "name": "stdout",
     "output_type": "stream",
     "text": [
      "{270: '\\x00\\x00\\x00\\x00\\x00\\x00\\x00\\x00\\x00\\x00\\x00\\x00\\x00\\x00\\x00\\x00\\x00\\x00\\x00\\x00\\x00\\x00\\x00\\x00\\x00\\x00\\x00\\x00\\x00\\x00\\x00', 271: 'thl\\x00\\x00\\x00\\x00\\x00\\x00\\x00\\x00\\x00\\x00\\x00\\x00\\x00\\x00\\x00\\x00\\x00\\x00\\x00\\x00\\x00\\x00\\x00\\x00\\x00\\x00\\x00\\x00', 272: 'thl T6C\\x00\\x00\\x00\\x00\\x00\\x00\\x00\\x00\\x00\\x00\\x00\\x00\\x00\\x00\\x00\\x00\\x00\\x00\\x00\\x00\\x00\\x00\\x00\\x00', 274: 1, 531: 2, 282: (72, 1), 283: (72, 1), 544: 0, 545: 0, 546: 0, 547: 0, 548: 0, 549: '\\x00\\x00\\x00\\x00\\x00\\x00\\x00\\x00\\x00\\x00\\x00\\x00\\x00\\x00\\x00\\x00\\x00\\x00\\x00\\x00\\x00\\x00\\x00\\x00\\x00\\x00\\x00\\x00\\x00\\x00\\x00', 34853: {0: b'\\x02\\x02\\x00\\x00', 1: 'N', 2: ((47, 1), (37, 1), (314694, 10000)), 3: 'E', 4: ((8, 1), (12, 1), (360104, 10000)), 5: b'\\x00', 6: (293, 1), 7: ((22, 1), (6, 1), (16, 1)), 27: b'ASCII\\x00\\x00\\x00FUSED\\x00\\x00\\x00\\x00\\x00\\x00\\x00\\x00\\x00\\x00\\x00\\x00\\x00\\x00\\x00\\x00\\x00\\x00\\x00\\x00\\x00\\x00\\x00\\x00\\x00\\x00\\x00\\x00\\x00\\x00\\x00\\x00\\x00\\x00\\x00\\x00\\x00\\x00\\x00\\x00\\x00\\x00\\x00\\x00\\x00\\x00\\x00\\x00\\x00\\x00\\x00', 29: '2018:10:27'}, 296: 2, 34665: 426, 305: 'MediaTek Camera Application\\n\\x00\\x00\\x00', 306: '2018:10:28 00:06:19', 36864: b'0220', 37121: b'\\x01\\x02\\x03\\x00', 40960: b'0100', 36867: '2018:10:28 00:06:19', 36868: '2018:10:28 00:06:19', 37380: (0, 10), 40961: 1, 37383: 2, 37384: 255, 37385: 1, 37386: (350, 100), 40962: 2448, 40963: 3264, 40965: 1211, 41990: 0, 37520: '60', 37521: '60', 37522: '60', 33434: (29998, 1000000), 33437: (28, 10), 34850: 0, 34855: 202, 41986: 0, 41987: 0, 41988: (100, 100)}\n"
     ]
    }
   ],
   "source": [
    "exif = img._getexif() or {}\n",
    "print(exif)"
   ]
  },
  {
   "cell_type": "code",
   "execution_count": 12,
   "metadata": {},
   "outputs": [
    {
     "name": "stdout",
     "output_type": "stream",
     "text": [
      "1\n"
     ]
    }
   ],
   "source": [
    "colorspace = exif.get(0xa001) or exif.get(0x0001)\n",
    "print(colorspace)"
   ]
  },
  {
   "cell_type": "code",
   "execution_count": 13,
   "metadata": {},
   "outputs": [
    {
     "name": "stdout",
     "output_type": "stream",
     "text": [
      "None\n"
     ]
    }
   ],
   "source": [
    "pixelformat = exif.get(0xbc01)\n",
    "print(pixelformat)"
   ]
  },
  {
   "cell_type": "code",
   "execution_count": 15,
   "metadata": {},
   "outputs": [
    {
     "name": "stdout",
     "output_type": "stream",
     "text": [
      "1\n"
     ]
    }
   ],
   "source": [
    "flash = exif.get(0x9209)\n",
    "print(flash)"
   ]
  },
  {
   "cell_type": "code",
   "execution_count": null,
   "metadata": {},
   "outputs": [],
   "source": []
  }
 ],
 "metadata": {
  "kernelspec": {
   "display_name": "Python 3",
   "language": "python",
   "name": "python3"
  },
  "language_info": {
   "codemirror_mode": {
    "name": "ipython",
    "version": 3
   },
   "file_extension": ".py",
   "mimetype": "text/x-python",
   "name": "python",
   "nbconvert_exporter": "python",
   "pygments_lexer": "ipython3",
   "version": "3.6.4"
  }
 },
 "nbformat": 4,
 "nbformat_minor": 2
}
