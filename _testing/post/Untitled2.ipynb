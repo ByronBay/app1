{
 "cells": [
  {
   "cell_type": "code",
   "execution_count": 1,
   "metadata": {},
   "outputs": [],
   "source": [
    "import json"
   ]
  },
  {
   "cell_type": "code",
   "execution_count": 4,
   "metadata": {},
   "outputs": [],
   "source": [
    "color = {}\n",
    "color[\"results\"] = {\n",
    "        \"schemata\": \"some complex structure\",\n",
    "        \"best\": {\n",
    "            \"name\": \"green\",\n",
    "            \"rgb\": [1,2,3],\n",
    "            \"diff\": [10,20,30],\n",
    "            \"scheme\": \"best fit scheme\"\n",
    "        }\n",
    "    }"
   ]
  },
  {
   "cell_type": "code",
   "execution_count": 5,
   "metadata": {},
   "outputs": [
    {
     "name": "stdout",
     "output_type": "stream",
     "text": [
      "{'results': {'schemata': 'some complex structure', 'best': {'name': 'green', 'rgb': [1, 2, 3], 'diff': [10, 20, 30], 'scheme': 'best fit scheme'}}}\n"
     ]
    }
   ],
   "source": [
    "print(color)"
   ]
  },
  {
   "cell_type": "code",
   "execution_count": 10,
   "metadata": {},
   "outputs": [
    {
     "name": "stdout",
     "output_type": "stream",
     "text": [
      "{\n",
      "    \"results\": {\n",
      "        \"best\": {\n",
      "            \"diff\": [\n",
      "                10,\n",
      "                20,\n",
      "                30\n",
      "            ],\n",
      "            \"name\": \"green\",\n",
      "            \"rgb\": [\n",
      "                1,\n",
      "                2,\n",
      "                3\n",
      "            ],\n",
      "            \"scheme\": \"best fit scheme\"\n",
      "        },\n",
      "        \"schemata\": \"some complex structure\"\n",
      "    }\n",
      "}\n"
     ]
    }
   ],
   "source": [
    "print(json.dumps(color, sort_keys=True, indent=4))"
   ]
  },
  {
   "cell_type": "code",
   "execution_count": null,
   "metadata": {},
   "outputs": [],
   "source": []
  }
 ],
 "metadata": {
  "kernelspec": {
   "display_name": "Python 3",
   "language": "python",
   "name": "python3"
  },
  "language_info": {
   "codemirror_mode": {
    "name": "ipython",
    "version": 3
   },
   "file_extension": ".py",
   "mimetype": "text/x-python",
   "name": "python",
   "nbconvert_exporter": "python",
   "pygments_lexer": "ipython3",
   "version": "3.6.4"
  }
 },
 "nbformat": 4,
 "nbformat_minor": 2
}
