{
 "cells": [
  {
   "cell_type": "code",
   "execution_count": 1,
   "metadata": {},
   "outputs": [],
   "source": [
    "import pathlib\n",
    "import os\n",
    "import json"
   ]
  },
  {
   "cell_type": "code",
   "execution_count": 2,
   "metadata": {},
   "outputs": [
    {
     "data": {
      "text/plain": [
       "<module 'caas.proc' from '/Users/michaelbach/Documents/GitHub/app1/_testing/post/caas/proc.py'>"
      ]
     },
     "execution_count": 2,
     "metadata": {},
     "output_type": "execute_result"
    }
   ],
   "source": [
    "import importlib\n",
    "import caas\n",
    "importlib.reload(caas)\n",
    "import caas.lib\n",
    "importlib.reload(caas.lib)\n",
    "import caas.proc\n",
    "importlib.reload(caas.proc)"
   ]
  },
  {
   "cell_type": "markdown",
   "metadata": {},
   "source": [
    "## Requirement\n",
    "* root\n",
    "* data/\n",
    "* image root\n",
    "* data/2018-11-24T15-55-27.169019_0aefb74e-7889-4179-a4dc-5cc0293b99ca\n",
    "* path to incomming image\n",
    "* data/2018-11-24T15-55-27.169019_0aefb74e-7889-4179-a4dc-5cc0293b99ca/in\n",
    "* path and filenamte to incoming image\n",
    "* data/2018-11-24T15-55-27.169019_0aefb74e-7889-4179-a4dc-5cc0293b99ca/in/2018-11-24T15-55-27.169019_0aefb74e-7889-4179-a4dc-5cc0293b99ca.jpg"
   ]
  },
  {
   "cell_type": "markdown",
   "metadata": {},
   "source": [
    "## Green field"
   ]
  },
  {
   "cell_type": "code",
   "execution_count": 3,
   "metadata": {},
   "outputs": [
    {
     "name": "stdout",
     "output_type": "stream",
     "text": [
      "files and folders: \n",
      "uuid: 28fa55bc-dd14-47e4-8819-34a62c7d6821\n",
      "timestamp: 2018-11-28T23-15-20.171055\n",
      "incoming root path: data/2018-11-28T23-15-20.171055_28fa55bc-dd14-47e4-8819-34a62c7d6821\n",
      "path_to_incoming_image: data/2018-11-28T23-15-20.171055_28fa55bc-dd14-47e4-8819-34a62c7d6821/in\n",
      "path_and_filename_to_incoming_image: data/2018-11-28T23-15-20.171055_28fa55bc-dd14-47e4-8819-34a62c7d6821/in/2018-11-28T23-15-20.171055_28fa55bc-dd14-47e4-8819-34a62c7d6821.jpg\n",
      "path_working: : data/2018-11-28T23-15-20.171055_28fa55bc-dd14-47e4-8819-34a62c7d6821/2018-11-28T23-15-20.171055\n",
      "\n"
     ]
    }
   ],
   "source": [
    "pfn_manager_green = caas.lib.FolderManager()\n",
    "pfn_manager_green.create_folders()\n",
    "print(\"files and folders: \\n{}\".format(pfn_manager_green))"
   ]
  },
  {
   "cell_type": "markdown",
   "metadata": {},
   "source": [
    "## Brownfield"
   ]
  },
  {
   "cell_type": "code",
   "execution_count": 4,
   "metadata": {},
   "outputs": [
    {
     "name": "stdout",
     "output_type": "stream",
     "text": [
      "assumed root path: data/2018-11-28T23-15-20.171055_28fa55bc-dd14-47e4-8819-34a62c7d6821\n"
     ]
    }
   ],
   "source": [
    "print(\"assumed root path: {}\".format(pfn_manager_green.root_path_to_incoming_image))"
   ]
  },
  {
   "cell_type": "code",
   "execution_count": 5,
   "metadata": {},
   "outputs": [
    {
     "name": "stdout",
     "output_type": "stream",
     "text": [
      "files and folders: \n",
      "uuid: 41ac1856-dc90-4e47-8c27-c3cc70da6a1b\n",
      "timestamp: 2018-11-28T23-15-22.477045\n",
      "incoming root path: data/2018-11-28T23-15-20.171055_28fa55bc-dd14-47e4-8819-34a62c7d6821\n",
      "path_to_incoming_image: data/2018-11-28T23-15-20.171055_28fa55bc-dd14-47e4-8819-34a62c7d6821/in\n",
      "path_and_filename_to_incoming_image: data/2018-11-28T23-15-20.171055_28fa55bc-dd14-47e4-8819-34a62c7d6821/in/2018-11-28T23-15-20.171055_28fa55bc-dd14-47e4-8819-34a62c7d6821.jpg\n",
      "path_working: : data/2018-11-28T23-15-20.171055_28fa55bc-dd14-47e4-8819-34a62c7d6821/2018-11-28T23-15-22.477045\n",
      "\n"
     ]
    }
   ],
   "source": [
    "pfn_manager = caas.lib.FolderManager()\n",
    "pfn_manager.create_folders(pfn_manager_green.root_path_to_incoming_image)\n",
    "print(\"files and folders: \\n{}\".format(pfn_manager))"
   ]
  },
  {
   "cell_type": "code",
   "execution_count": 3,
   "metadata": {},
   "outputs": [
    {
     "name": "stdout",
     "output_type": "stream",
     "text": [
      "files and folders: \n",
      "uuid: 073bd28a-c05b-42c9-8a5c-0d348b9078c3\n",
      "timestamp: 2018-12-22T22-49-28.364249\n",
      "incoming root path: data/2018-11-28T01-43-07.701699_a6469af2-92bf-4087-a54f-9c6eda2443a1\n",
      "path_to_incoming_image: data/2018-11-28T01-43-07.701699_a6469af2-92bf-4087-a54f-9c6eda2443a1/in\n",
      "path_and_filename_to_incoming_image: data/2018-11-28T01-43-07.701699_a6469af2-92bf-4087-a54f-9c6eda2443a1/in/2018-11-28T01-43-07.701699_a6469af2-92bf-4087-a54f-9c6eda2443a1.jpg\n",
      "path_working: : data/2018-11-28T01-43-07.701699_a6469af2-92bf-4087-a54f-9c6eda2443a1/2018-12-22T22-49-28.364249\n",
      "\n"
     ]
    },
    {
     "ename": "AttributeError",
     "evalue": "module 'caas' has no attribute 'exif'",
     "output_type": "error",
     "traceback": [
      "\u001b[0;31m---------------------------------------------------------------------------\u001b[0m",
      "\u001b[0;31mAttributeError\u001b[0m                            Traceback (most recent call last)",
      "\u001b[0;32m<ipython-input-3-371364c3f5ce>\u001b[0m in \u001b[0;36m<module>\u001b[0;34m()\u001b[0m\n\u001b[1;32m      5\u001b[0m resultData = caas.proc.process_main(\n\u001b[1;32m      6\u001b[0m             \u001b[0mpfn_manager\u001b[0m\u001b[0;34m.\u001b[0m\u001b[0mpath_working\u001b[0m\u001b[0;34m,\u001b[0m\u001b[0;34m\u001b[0m\u001b[0m\n\u001b[0;32m----> 7\u001b[0;31m             pfn_manager.path_and_filename_to_incoming_image)\n\u001b[0m",
      "\u001b[0;32m~/Documents/GitHub/app1/_testing/post/caas/proc.py\u001b[0m in \u001b[0;36mprocess_main\u001b[0;34m(path_working, path_and_filename_to_current_image)\u001b[0m\n\u001b[1;32m     33\u001b[0m         path_working, \"exif_location.json\")\n\u001b[1;32m     34\u001b[0m \u001b[0;34m\u001b[0m\u001b[0m\n\u001b[0;32m---> 35\u001b[0;31m     \u001b[0mcaas\u001b[0m\u001b[0;34m.\u001b[0m\u001b[0mlib\u001b[0m\u001b[0;34m.\u001b[0m\u001b[0msave_json\u001b[0m\u001b[0;34m(\u001b[0m\u001b[0mcaas\u001b[0m\u001b[0;34m.\u001b[0m\u001b[0mexif\u001b[0m\u001b[0;34m.\u001b[0m\u001b[0mgetLocationAsDict\u001b[0m\u001b[0;34m(\u001b[0m\u001b[0;34m)\u001b[0m\u001b[0;34m,\u001b[0m \u001b[0mpfnJson\u001b[0m\u001b[0;34m)\u001b[0m\u001b[0;34m\u001b[0m\u001b[0m\n\u001b[0m\u001b[1;32m     36\u001b[0m \u001b[0;34m\u001b[0m\u001b[0m\n\u001b[1;32m     37\u001b[0m         \u001b[0;31m# write image propterties exif-photgraphic-parameter\u001b[0m\u001b[0;34m\u001b[0m\u001b[0;34m\u001b[0m\u001b[0m\n",
      "\u001b[0;31mAttributeError\u001b[0m: module 'caas' has no attribute 'exif'"
     ]
    }
   ],
   "source": [
    "pfn_manager = caas.lib.FolderManager()\n",
    "pfn_manager.create_folders(str(pathlib.Path(\"data\",\"2018-11-28T01-43-07.701699_a6469af2-92bf-4087-a54f-9c6eda2443a1\")))\n",
    "print(\"files and folders: \\n{}\".format(pfn_manager))\n",
    "\n",
    "resultData = caas.proc.process_main(\n",
    "            pfn_manager.path_working,\n",
    "            pfn_manager.path_and_filename_to_incoming_image)"
   ]
  },
  {
   "cell_type": "code",
   "execution_count": null,
   "metadata": {},
   "outputs": [],
   "source": []
  }
 ],
 "metadata": {
  "kernelspec": {
   "display_name": "Python 3",
   "language": "python",
   "name": "python3"
  },
  "language_info": {
   "codemirror_mode": {
    "name": "ipython",
    "version": 3
   },
   "file_extension": ".py",
   "mimetype": "text/x-python",
   "name": "python",
   "nbconvert_exporter": "python",
   "pygments_lexer": "ipython3",
   "version": "3.6.4"
  }
 },
 "nbformat": 4,
 "nbformat_minor": 2
}
