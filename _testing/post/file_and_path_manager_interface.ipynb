{
 "cells": [
  {
   "cell_type": "code",
   "execution_count": 1,
   "metadata": {},
   "outputs": [],
   "source": [
    "import pathlib\n",
    "import os\n",
    "import json"
   ]
  },
  {
   "cell_type": "code",
   "execution_count": 2,
   "metadata": {},
   "outputs": [
    {
     "data": {
      "text/plain": [
       "<module 'caas.proc' from '/Users/michaelbach/Documents/GitHub/app1/_testing/post/caas/proc.py'>"
      ]
     },
     "execution_count": 2,
     "metadata": {},
     "output_type": "execute_result"
    }
   ],
   "source": [
    "import importlib\n",
    "import caas\n",
    "importlib.reload(caas)\n",
    "import caas.lib\n",
    "importlib.reload(caas.lib)\n",
    "import caas.proc\n",
    "importlib.reload(caas.proc)"
   ]
  },
  {
   "cell_type": "markdown",
   "metadata": {},
   "source": [
    "## Requirement\n",
    "* root\n",
    "* data/\n",
    "* image root\n",
    "* data/2018-11-24T15-55-27.169019_0aefb74e-7889-4179-a4dc-5cc0293b99ca\n",
    "* path to incomming image\n",
    "* data/2018-11-24T15-55-27.169019_0aefb74e-7889-4179-a4dc-5cc0293b99ca/in\n",
    "* path and filenamte to incoming image\n",
    "* data/2018-11-24T15-55-27.169019_0aefb74e-7889-4179-a4dc-5cc0293b99ca/in/2018-11-24T15-55-27.169019_0aefb74e-7889-4179-a4dc-5cc0293b99ca.jpg"
   ]
  },
  {
   "cell_type": "markdown",
   "metadata": {},
   "source": [
    "## Green field"
   ]
  },
  {
   "cell_type": "code",
   "execution_count": 3,
   "metadata": {},
   "outputs": [
    {
     "name": "stdout",
     "output_type": "stream",
     "text": [
      "files and folders: \n",
      "uuid: 28fa55bc-dd14-47e4-8819-34a62c7d6821\n",
      "timestamp: 2018-11-28T23-15-20.171055\n",
      "incoming root path: data/2018-11-28T23-15-20.171055_28fa55bc-dd14-47e4-8819-34a62c7d6821\n",
      "path_to_incoming_image: data/2018-11-28T23-15-20.171055_28fa55bc-dd14-47e4-8819-34a62c7d6821/in\n",
      "path_and_filename_to_incoming_image: data/2018-11-28T23-15-20.171055_28fa55bc-dd14-47e4-8819-34a62c7d6821/in/2018-11-28T23-15-20.171055_28fa55bc-dd14-47e4-8819-34a62c7d6821.jpg\n",
      "path_working: : data/2018-11-28T23-15-20.171055_28fa55bc-dd14-47e4-8819-34a62c7d6821/2018-11-28T23-15-20.171055\n",
      "\n"
     ]
    }
   ],
   "source": [
    "pfn_manager_green = caas.lib.FolderManager()\n",
    "pfn_manager_green.create_folders()\n",
    "print(\"files and folders: \\n{}\".format(pfn_manager_green))"
   ]
  },
  {
   "cell_type": "markdown",
   "metadata": {},
   "source": [
    "## Brownfield"
   ]
  },
  {
   "cell_type": "code",
   "execution_count": 4,
   "metadata": {},
   "outputs": [
    {
     "name": "stdout",
     "output_type": "stream",
     "text": [
      "assumed root path: data/2018-11-28T23-15-20.171055_28fa55bc-dd14-47e4-8819-34a62c7d6821\n"
     ]
    }
   ],
   "source": [
    "print(\"assumed root path: {}\".format(pfn_manager_green.root_path_to_incoming_image))"
   ]
  },
  {
   "cell_type": "code",
   "execution_count": 5,
   "metadata": {},
   "outputs": [
    {
     "name": "stdout",
     "output_type": "stream",
     "text": [
      "files and folders: \n",
      "uuid: 41ac1856-dc90-4e47-8c27-c3cc70da6a1b\n",
      "timestamp: 2018-11-28T23-15-22.477045\n",
      "incoming root path: data/2018-11-28T23-15-20.171055_28fa55bc-dd14-47e4-8819-34a62c7d6821\n",
      "path_to_incoming_image: data/2018-11-28T23-15-20.171055_28fa55bc-dd14-47e4-8819-34a62c7d6821/in\n",
      "path_and_filename_to_incoming_image: data/2018-11-28T23-15-20.171055_28fa55bc-dd14-47e4-8819-34a62c7d6821/in/2018-11-28T23-15-20.171055_28fa55bc-dd14-47e4-8819-34a62c7d6821.jpg\n",
      "path_working: : data/2018-11-28T23-15-20.171055_28fa55bc-dd14-47e4-8819-34a62c7d6821/2018-11-28T23-15-22.477045\n",
      "\n"
     ]
    }
   ],
   "source": [
    "pfn_manager = caas.lib.FolderManager()\n",
    "pfn_manager.create_folders(pfn_manager_green.root_path_to_incoming_image)\n",
    "print(\"files and folders: \\n{}\".format(pfn_manager))"
   ]
  },
  {
   "cell_type": "code",
   "execution_count": 6,
   "metadata": {},
   "outputs": [
    {
     "name": "stdout",
     "output_type": "stream",
     "text": [
      "files and folders: \n",
      "uuid: 4512c4e4-5d82-43cd-bc6a-a4fa3fb2833a\n",
      "timestamp: 2018-11-28T23-15-23.904389\n",
      "incoming root path: data/2018-11-28T01-43-07.701699_a6469af2-92bf-4087-a54f-9c6eda2443a1\n",
      "path_to_incoming_image: data/2018-11-28T01-43-07.701699_a6469af2-92bf-4087-a54f-9c6eda2443a1/in\n",
      "path_and_filename_to_incoming_image: data/2018-11-28T01-43-07.701699_a6469af2-92bf-4087-a54f-9c6eda2443a1/in/2018-11-28T01-43-07.701699_a6469af2-92bf-4087-a54f-9c6eda2443a1.jpg\n",
      "path_working: : data/2018-11-28T01-43-07.701699_a6469af2-92bf-4087-a54f-9c6eda2443a1/2018-11-28T23-15-23.904389\n",
      "\n",
      "Load image : data/2018-11-28T01-43-07.701699_a6469af2-92bf-4087-a54f-9c6eda2443a1/in/2018-11-28T01-43-07.701699_a6469af2-92bf-4087-a54f-9c6eda2443a1.jpg\n",
      "[[ 82  87  85]\n",
      " [ 57  64  67]\n",
      " [ 37  47  47]\n",
      " ...\n",
      " [174 178 176]\n",
      " [175 177 177]\n",
      " [170 175 174]]\n",
      "Cluster: 2 , Silhouette: 0.791052374184382, bgr: [164.56686523 169.91087118 168.5824274 ]\n",
      "Cluster: 3 , Silhouette: 0.7100801599105656, bgr: [164.56686523 169.91087118 168.5824274 ]\n",
      "Cluster: 4 , Silhouette: 0.6685487785156395, bgr: [164.56686523 169.91087118 168.5824274 ]\n",
      "Cluster: 5 , Silhouette: 0.6364318837462595, bgr: [164.56686523 169.91087118 168.5824274 ]\n",
      "Cluster: 6 , Silhouette: 0.5008836530312949, bgr: [164.56686523 169.91087118 168.5824274 ]\n",
      "Cluster: 7 , Silhouette: 0.489777531656227, bgr: [164.56686523 169.91087118 168.5824274 ]\n",
      "iterating done, winning cluster-values:\n",
      "Silhouette: 0.791052374184382, bgr: [164.56686523 169.91087118 168.5824274 ]\n",
      "rgb_from_image_v2 result:\n",
      "{\"thumbnail\": \"data/2018-11-28T01-43-07.701699_a6469af2-92bf-4087-a54f-9c6eda2443a1/2018-11-28T23-15-23.904389/thumbnail.png\", \"processing\": \"data/2018-11-28T01-43-07.701699_a6469af2-92bf-4087-a54f-9c6eda2443a1/2018-11-28T23-15-23.904389/proc_rgb.png\", \"rgb\": [168.58242740134028, 169.9108711839166, 164.5668652271035]}\n",
      "processing ral_standard\n",
      "color_from_rgb_result:\n",
      "{\"version\": {\"number\": \"1.0.0\", \"description\": \"spatial.kdtree, three best candidates\"}, \"results\": {\"schemata\": {\"ral_standard\": {\"p1\": {\"rgb\": [165.0, 165.0, 165.0], \"name\": \"9006 Wei\\u00dfaluminium\", \"diff\": [-3.582427401340283, -4.910871183916612, 0.43313477289649427], \"rgb_image\": [168.58242740134028, 169.9108711839166, 164.5668652271035]}, \"p2\": {\"rgb\": [157.0, 161.0, 170.0], \"name\": \"7040 Fenstergrau\", \"diff\": [-11.582427401340283, -8.910871183916612, 5.433134772896494], \"rgb_image\": [168.58242740134028, 169.9108711839166, 164.5668652271035]}, \"p3\": {\"rgb\": [156.0, 156.0, 156.0], \"name\": \"9022 Perlhellgrau\", \"diff\": [-12.582427401340283, -13.910871183916612, -8.566865227103506], \"rgb_image\": [168.58242740134028, 169.9108711839166, 164.5668652271035]}}}, \"rgbFromImage\": [168.58242740134028, 169.9108711839166, 164.5668652271035], \"best\": {\"name\": \"9006 Wei\\u00dfaluminium\", \"rgb\": [165.0, 165.0, 165.0], \"diff\": [-3.582427401340283, -4.910871183916612, 0.43313477289649427], \"scheme\": \"ral_standard\"}}}\n",
      "processing result:\n",
      "{\"version\": {\"number\": \"1.0.0\", \"description\": \"first version of result consolidation\"}, \"results\": {\"workingPath\": \"data/2018-11-28T01-43-07.701699_a6469af2-92bf-4087-a54f-9c6eda2443a1/2018-11-28T23-15-23.904389\", \"color\": {\"version\": {\"number\": \"1.0.0\", \"description\": \"spatial.kdtree, three best candidates\"}, \"results\": {\"schemata\": {\"ral_standard\": {\"p1\": {\"rgb\": [165.0, 165.0, 165.0], \"name\": \"9006 Wei\\u00dfaluminium\", \"diff\": [-3.582427401340283, -4.910871183916612, 0.43313477289649427], \"rgb_image\": [168.58242740134028, 169.9108711839166, 164.5668652271035]}, \"p2\": {\"rgb\": [157.0, 161.0, 170.0], \"name\": \"7040 Fenstergrau\", \"diff\": [-11.582427401340283, -8.910871183916612, 5.433134772896494], \"rgb_image\": [168.58242740134028, 169.9108711839166, 164.5668652271035]}, \"p3\": {\"rgb\": [156.0, 156.0, 156.0], \"name\": \"9022 Perlhellgrau\", \"diff\": [-12.582427401340283, -13.910871183916612, -8.566865227103506], \"rgb_image\": [168.58242740134028, 169.9108711839166, 164.5668652271035]}}}, \"rgbFromImage\": [168.58242740134028, 169.9108711839166, 164.5668652271035], \"best\": {\"name\": \"9006 Wei\\u00dfaluminium\", \"rgb\": [165.0, 165.0, 165.0], \"diff\": [-3.582427401340283, -4.910871183916612, 0.43313477289649427], \"scheme\": \"ral_standard\"}}}}}\n"
     ]
    }
   ],
   "source": [
    "pfn_manager = caas.lib.FolderManager()\n",
    "pfn_manager.create_folders(str(pathlib.Path(\"data\",\"2018-11-28T01-43-07.701699_a6469af2-92bf-4087-a54f-9c6eda2443a1\")))\n",
    "print(\"files and folders: \\n{}\".format(pfn_manager))\n",
    "\n",
    "resultData = caas.proc.process_main(\n",
    "            pfn_manager.path_working,\n",
    "            pfn_manager.path_and_filename_to_incoming_image)"
   ]
  },
  {
   "cell_type": "code",
   "execution_count": null,
   "metadata": {},
   "outputs": [],
   "source": []
  }
 ],
 "metadata": {
  "kernelspec": {
   "display_name": "Python 3",
   "language": "python",
   "name": "python3"
  },
  "language_info": {
   "codemirror_mode": {
    "name": "ipython",
    "version": 3
   },
   "file_extension": ".py",
   "mimetype": "text/x-python",
   "name": "python",
   "nbconvert_exporter": "python",
   "pygments_lexer": "ipython3",
   "version": "3.6.4"
  }
 },
 "nbformat": 4,
 "nbformat_minor": 2
}
