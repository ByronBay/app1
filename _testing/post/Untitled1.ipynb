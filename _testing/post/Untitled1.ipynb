{
 "cells": [
  {
   "cell_type": "code",
   "execution_count": 35,
   "metadata": {},
   "outputs": [],
   "source": [
    "import caas.lib\n",
    "import importlib\n",
    "importlib.reload(caas.lib)\n",
    "import cv2"
   ]
  },
  {
   "cell_type": "code",
   "execution_count": 31,
   "metadata": {},
   "outputs": [],
   "source": [
    "wp = caas.lib.WorkingPathsAndDirectoriesForIcoming()"
   ]
  },
  {
   "cell_type": "code",
   "execution_count": 32,
   "metadata": {},
   "outputs": [
    {
     "name": "stdout",
     "output_type": "stream",
     "text": [
      "uuid: d132a868-9ae5-4b35-9298-0cb50bfd0cf1\n",
      "timestamp: 2018-10-06T15-59-38.989008\n",
      "path_and_filename_to_incoming_image: data/2018-10-06T15-59-38.989008_d132a868-9ae5-4b35-9298-0cb50bfd0cf1/2018-10-06T15-59-38.989008_d132a868-9ae5-4b35-9298-0cb50bfd0cf1.jpg\n",
      "path_to_incoming_image: data/2018-10-06T15-59-38.989008_d132a868-9ae5-4b35-9298-0cb50bfd0cf1\n",
      "\n"
     ]
    }
   ],
   "source": [
    "print(wp)"
   ]
  },
  {
   "cell_type": "code",
   "execution_count": 33,
   "metadata": {},
   "outputs": [
    {
     "data": {
      "text/plain": [
       "'2018-10-06T15-59-38.989008_d132a868-9ae5-4b35-9298-0cb50bfd0cf1.jpg'"
      ]
     },
     "execution_count": 33,
     "metadata": {},
     "output_type": "execute_result"
    }
   ],
   "source": [
    "wp.filename_of_current_image"
   ]
  },
  {
   "cell_type": "code",
   "execution_count": 34,
   "metadata": {},
   "outputs": [
    {
     "data": {
      "text/plain": [
       "'020ba50c-fa3b-40ab-81a7-7273e8fb2873'"
      ]
     },
     "execution_count": 34,
     "metadata": {},
     "output_type": "execute_result"
    }
   ],
   "source": [
    "str(caas.lib.get_uuid())"
   ]
  },
  {
   "cell_type": "code",
   "execution_count": 39,
   "metadata": {},
   "outputs": [
    {
     "name": "stdout",
     "output_type": "stream",
     "text": [
      "2\n"
     ]
    }
   ],
   "source": [
    "cm = cv2.COLORMAP_JET\n",
    "print(cm)"
   ]
  },
  {
   "cell_type": "markdown",
   "metadata": {},
   "source": [
    "cm"
   ]
  },
  {
   "cell_type": "markdown",
   "metadata": {},
   "source": []
  }
 ],
 "metadata": {
  "kernelspec": {
   "display_name": "Python 3",
   "language": "python",
   "name": "python3"
  },
  "language_info": {
   "codemirror_mode": {
    "name": "ipython",
    "version": 3
   },
   "file_extension": ".py",
   "mimetype": "text/x-python",
   "name": "python",
   "nbconvert_exporter": "python",
   "pygments_lexer": "ipython3",
   "version": "3.6.4"
  }
 },
 "nbformat": 4,
 "nbformat_minor": 2
}
