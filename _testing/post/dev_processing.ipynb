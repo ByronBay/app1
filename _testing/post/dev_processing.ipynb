{
 "cells": [
  {
   "cell_type": "markdown",
   "metadata": {},
   "source": [
    "## Development of caas.proc"
   ]
  },
  {
   "cell_type": "code",
   "execution_count": 77,
   "metadata": {},
   "outputs": [],
   "source": [
    "import pathlib\n",
    "import os\n",
    "import json"
   ]
  },
  {
   "cell_type": "code",
   "execution_count": 78,
   "metadata": {},
   "outputs": [
    {
     "name": "stdout",
     "output_type": "stream",
     "text": [
      "data/2018-11-28T01-43-07.701699_a6469af2-92bf-4087-a54f-9c6eda2443a1\n"
     ]
    }
   ],
   "source": [
    "workingdir = str(pathlib.Path(\"data\",\"2018-11-28T01-43-07.701699_a6469af2-92bf-4087-a54f-9c6eda2443a1\"))\n",
    "print(workingdir)"
   ]
  },
  {
   "cell_type": "code",
   "execution_count": 79,
   "metadata": {},
   "outputs": [
    {
     "data": {
      "text/plain": [
       "<module 'caas.exif' from '/Users/michaelbach/Documents/GitHub/app1/_testing/post/caas/exif.py'>"
      ]
     },
     "execution_count": 79,
     "metadata": {},
     "output_type": "execute_result"
    }
   ],
   "source": [
    "import importlib\n",
    "import caas\n",
    "importlib.reload(caas)\n",
    "import caas.lib\n",
    "importlib.reload(caas.lib)\n",
    "import caas.proc\n",
    "importlib.reload(caas.proc)\n",
    "import caas.exif\n",
    "importlib.reload(caas.exif)"
   ]
  },
  {
   "cell_type": "code",
   "execution_count": 80,
   "metadata": {},
   "outputs": [
    {
     "name": "stdout",
     "output_type": "stream",
     "text": [
      "files and folders: \n",
      "uuid: 4b47c8c8-155e-43b0-9f84-dac21b26a9d0\n",
      "timestamp: 2018-12-23T00-36-17.762790\n",
      "incoming root path: data/2018-12-22T23-18-16.356596_67e62be9-f78c-4df3-af8a-6f089f848926\n",
      "path_to_incoming_image: data/2018-12-22T23-18-16.356596_67e62be9-f78c-4df3-af8a-6f089f848926/in\n",
      "path_and_filename_to_incoming_image: data/2018-12-22T23-18-16.356596_67e62be9-f78c-4df3-af8a-6f089f848926/in/2018-12-22T23-18-16.356596_67e62be9-f78c-4df3-af8a-6f089f848926.jpg\n",
      "path_working: : data/2018-12-22T23-18-16.356596_67e62be9-f78c-4df3-af8a-6f089f848926/2018-12-23T00-36-17.762790\n",
      "\n"
     ]
    }
   ],
   "source": [
    "pfn_manager = caas.lib.FolderManager()\n",
    "pfn_manager.create_folder_structure(str(pathlib.Path(\"data\",\"2018-12-22T23-18-16.356596_67e62be9-f78c-4df3-af8a-6f089f848926\")))\n",
    "print(\"files and folders: \\n{}\".format(pfn_manager))"
   ]
  },
  {
   "cell_type": "code",
   "execution_count": 81,
   "metadata": {},
   "outputs": [
    {
     "name": "stdout",
     "output_type": "stream",
     "text": [
      "{'ColorSpace': 1, 'Flash': 0, 'LightSource': 255, 'FlashPixVersion': '0100', 'SceneType': 'undefined', 'SceneCaptureType': 0, 'WhiteBalance': 0, 'WhiteLevel': 'undefined', 'WhitePoint': 'undefined', 'ExifVersion': '0220', 'ISOSpeedRatings': 251, 'SensingMethod': 'undefined', 'Make': 'thl\\x00\\x00\\x00\\x00\\x00\\x00\\x00\\x00\\x00\\x00\\x00\\x00\\x00\\x00\\x00\\x00\\x00\\x00\\x00\\x00\\x00\\x00\\x00\\x00\\x00\\x00\\x00\\x00', 'Model': 'thl T6C\\x00\\x00\\x00\\x00\\x00\\x00\\x00\\x00\\x00\\x00\\x00\\x00\\x00\\x00\\x00\\x00\\x00\\x00\\x00\\x00\\x00\\x00\\x00\\x00', 'Software': 'MediaTek Camera Application\\n\\x00\\x00\\x00', 'Orientation': 1, 'ExifImageWidth': 2448, 'ExifImageHeight': 3264, 'YCbCrPositioning': 2}\n",
      "Load image : data/2018-12-22T23-18-16.356596_67e62be9-f78c-4df3-af8a-6f089f848926/in/2018-12-22T23-18-16.356596_67e62be9-f78c-4df3-af8a-6f089f848926.jpg\n",
      "[[  6  93  13]\n",
      " [ 10  97  17]\n",
      " [  5  94  14]\n",
      " ...\n",
      " [ 15  50 178]\n",
      " [ 18  52 182]\n",
      " [ 17  52 180]]\n",
      "Cluster: 2 , Silhouette: 0.4969292779465319, bgr: [  8.5264646  128.48552364  97.93157657]\n",
      "Cluster: 3 , Silhouette: 0.6491895389072715, bgr: [ 49.35751045  38.66870376 143.84384046]\n",
      "Cluster: 4 , Silhouette: 0.6265934902402759, bgr: [ 49.35751045  38.66870376 143.84384046]\n",
      "Cluster: 5 , Silhouette: 0.6036460300025024, bgr: [ 49.35751045  38.66870376 143.84384046]\n",
      "Cluster: 6 , Silhouette: 0.6297715828494431, bgr: [ 49.35751045  38.66870376 143.84384046]\n",
      "Cluster: 7 , Silhouette: 0.6811309090400616, bgr: [  3.77403271 141.45313123 140.87116075]\n",
      "iterating done, winning cluster-values:\n",
      "Silhouette: 0.6811309090400616, bgr: [  3.77403271 141.45313123 140.87116075]\n",
      "rgb_from_image_v2 result:\n",
      "{\"thumbnail\": \"data/2018-12-22T23-18-16.356596_67e62be9-f78c-4df3-af8a-6f089f848926/2018-12-23T00-36-17.762790/thumbnail.png\", \"processing\": \"data/2018-12-22T23-18-16.356596_67e62be9-f78c-4df3-af8a-6f089f848926/2018-12-23T00-36-17.762790/proc_rgb.png\", \"rgb\": [140.87116074990027, 141.45313123254886, 3.774032708416435]}\n",
      "processing ral_standard\n",
      "color_from_rgb_result:\n",
      "{\"version\": {\"number\": \"1.0.0\", \"description\": \"spatial.kdtree, three best candidates\"}, \"results\": {\"schemata\": {\"ral_standard\": {\"p1\": {\"rgb\": [157.0, 145.0, 1.0], \"name\": \"1027 Currygelb\", \"diff\": [16.12883925009973, 3.5468687674511443, -2.774032708416435], \"rgb_image\": [140.87116074990027, 141.45313123254886, 3.774032708416435]}, \"p2\": {\"rgb\": [169.0, 131.0, 7.0], \"name\": \"1005 Honiggelb\", \"diff\": [28.12883925009973, -10.453131232548856, 3.225967291583565], \"rgb_image\": [140.87116074990027, 141.45313123254886, 3.774032708416435]}, \"p3\": {\"rgb\": [149.0, 95.0, 32.0], \"name\": \"8001 Ockerbraun\", \"diff\": [8.12883925009973, -46.453131232548856, 28.225967291583565], \"rgb_image\": [140.87116074990027, 141.45313123254886, 3.774032708416435]}}}, \"rgbFromImage\": [140.87116074990027, 141.45313123254886, 3.774032708416435], \"best\": {\"name\": \"1027 Currygelb\", \"rgb\": [157.0, 145.0, 1.0], \"diff\": [16.12883925009973, 3.5468687674511443, -2.774032708416435], \"scheme\": \"ral_standard\"}}}\n",
      "processing result:\n",
      "{\"version\": {\"number\": \"1.0.0\", \"description\": \"first version of result consolidation\"}, \"results\": {\"workingPath\": \"data/2018-12-22T23-18-16.356596_67e62be9-f78c-4df3-af8a-6f089f848926/2018-12-23T00-36-17.762790\", \"color\": {\"version\": {\"number\": \"1.0.0\", \"description\": \"spatial.kdtree, three best candidates\"}, \"results\": {\"schemata\": {\"ral_standard\": {\"p1\": {\"rgb\": [157.0, 145.0, 1.0], \"name\": \"1027 Currygelb\", \"diff\": [16.12883925009973, 3.5468687674511443, -2.774032708416435], \"rgb_image\": [140.87116074990027, 141.45313123254886, 3.774032708416435]}, \"p2\": {\"rgb\": [169.0, 131.0, 7.0], \"name\": \"1005 Honiggelb\", \"diff\": [28.12883925009973, -10.453131232548856, 3.225967291583565], \"rgb_image\": [140.87116074990027, 141.45313123254886, 3.774032708416435]}, \"p3\": {\"rgb\": [149.0, 95.0, 32.0], \"name\": \"8001 Ockerbraun\", \"diff\": [8.12883925009973, -46.453131232548856, 28.225967291583565], \"rgb_image\": [140.87116074990027, 141.45313123254886, 3.774032708416435]}}}, \"rgbFromImage\": [140.87116074990027, 141.45313123254886, 3.774032708416435], \"best\": {\"name\": \"1027 Currygelb\", \"rgb\": [157.0, 145.0, 1.0], \"diff\": [16.12883925009973, 3.5468687674511443, -2.774032708416435], \"scheme\": \"ral_standard\"}}}}}\n"
     ]
    }
   ],
   "source": [
    "resultData = caas.proc.process_main(pfn_manager)"
   ]
  },
  {
   "cell_type": "code",
   "execution_count": 82,
   "metadata": {},
   "outputs": [
    {
     "name": "stdout",
     "output_type": "stream",
     "text": [
      "{'name': '1027 Currygelb', 'rgb': [157.0, 145.0, 1.0], 'diff': [16.12883925009973, 3.5468687674511443, -2.774032708416435], 'scheme': 'ral_standard'}\n"
     ]
    }
   ],
   "source": [
    "print(resultData[\"results\"][\"color\"][\"results\"][\"best\"])"
   ]
  },
  {
   "cell_type": "code",
   "execution_count": null,
   "metadata": {},
   "outputs": [],
   "source": []
  },
  {
   "cell_type": "code",
   "execution_count": null,
   "metadata": {},
   "outputs": [],
   "source": []
  }
 ],
 "metadata": {
  "kernelspec": {
   "display_name": "Python 3",
   "language": "python",
   "name": "python3"
  },
  "language_info": {
   "codemirror_mode": {
    "name": "ipython",
    "version": 3
   },
   "file_extension": ".py",
   "mimetype": "text/x-python",
   "name": "python",
   "nbconvert_exporter": "python",
   "pygments_lexer": "ipython3",
   "version": "3.6.4"
  }
 },
 "nbformat": 4,
 "nbformat_minor": 2
}
